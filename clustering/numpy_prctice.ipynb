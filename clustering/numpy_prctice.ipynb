{
 "cells": [
  {
   "cell_type": "markdown",
   "id": "16d2f615",
   "metadata": {},
   "source": [
    "Create an array a with numbers 0..11 and reshape it to (3, 4).\n",
    "\n",
    "Print a.shape, a.ndim, and a.dtype.\n",
    "\n",
    "Extract:\n",
    "\n",
    "the last row of a;\n",
    "\n",
    "the first two elements of the second column (as a 1D array).\n",
    "\n",
    "Create squared = a**2 (vectorized).\n",
    "\n",
    "In-place, set every value in a that is a multiple of 3 to -1 (use a boolean mask).\n",
    "\n",
    "Finally, show me both a and squared."
   ]
  },
  {
   "cell_type": "code",
   "execution_count": 38,
   "id": "8a5ff746",
   "metadata": {},
   "outputs": [
    {
     "name": "stdout",
     "output_type": "stream",
     "text": [
      "(3, 4) 2 int64\n",
      "[[ 0  1  2  3]\n",
      " [ 4  5  6  7]\n",
      " [ 8  9 10 11]]\n",
      "[1 5]\n",
      "[[  0   1   4   9]\n",
      " [ 16  25  36  49]\n",
      " [ 64  81 100 121]]\n",
      "[[ True False False  True]\n",
      " [False False  True False]\n",
      " [False  True False False]]\n",
      "[[-1  1  2 -1]\n",
      " [ 4  5 -1  7]\n",
      " [ 8 -1 10 11]]\n"
     ]
    }
   ],
   "source": [
    "import numpy as np\n",
    "\n",
    "a = np.arange(12).reshape(3,4)\n",
    "print(a.shape, a.ndim, a.dtype)\n",
    "\n",
    "print(a)\n",
    "print(a[-1, :])\n",
    "print(a[0:2, 1])\n",
    "squared = a **2\n",
    "print(squared)\n",
    "mask = (a % 3 == 0)\n",
    "print(mask)\n",
    "a[mask] = -1\n",
    "print(a)"
   ]
  },
  {
   "cell_type": "markdown",
   "id": "1189d6bf",
   "metadata": {},
   "source": [
    "Create a = np.arange(1, 31).reshape(5, 6) (values 1..30).\n",
    "\n",
    "Using slicing, get the middle 3 rows and columns 2–4 (i.e., rows 1:4 and cols 1:4). Print it.\n",
    "\n",
    "Get every other row of a in reverse column order using one slice. Print it.\n",
    "\n",
    "Using a boolean mask, set every element of a that’s divisible by 5 to -5 in-place. Print a.\n",
    "\n",
    "Using fancy indexing, select rows [0, 2, 4] and columns [1, 3, 5] as a rectangular submatrix (hint: np.ix_). Print the result."
   ]
  },
  {
   "cell_type": "code",
   "execution_count": 51,
   "id": "2b62a8a5",
   "metadata": {},
   "outputs": [
    {
     "name": "stdout",
     "output_type": "stream",
     "text": [
      "[[ 1  2  3  4  5  6]\n",
      " [ 7  8  9 10 11 12]\n",
      " [13 14 15 16 17 18]\n",
      " [19 20 21 22 23 24]\n",
      " [25 26 27 28 29 30]]\n",
      "[[ 8  9 10]\n",
      " [14 15 16]\n",
      " [20 21 22]]\n",
      "[[ 6  5  4  3  2  1]\n",
      " [18 17 16 15 14 13]\n",
      " [30 29 28 27 26 25]]\n",
      "[[ 1  2  3  4 -5  6]\n",
      " [ 7  8  9 -5 11 12]\n",
      " [13 14 -5 16 17 18]\n",
      " [19 -5 21 22 23 24]\n",
      " [-5 26 27 28 29 -5]]\n",
      "[[ 2  4  6]\n",
      " [14 16 18]\n",
      " [26 28 -5]]\n"
     ]
    }
   ],
   "source": [
    "a = np.arange(1,31).reshape(5,6)\n",
    "print(a)\n",
    "print(a[1:4, 1:4])\n",
    "print(a[::2,::-1])\n",
    "mask = (a % 5 ==0)\n",
    "a[mask] = -5\n",
    "print(a)\n",
    "rows, cols = [0,2,4],[1,3,5]\n",
    "sub = a[np.ix_(rows, cols)]\n",
    "print(sub)"
   ]
  },
  {
   "cell_type": "markdown",
   "id": "70d56107",
   "metadata": {},
   "source": [
    "b = np.arange(24).reshape(4, 6)\n",
    "\n",
    "Make c = b.reshape(2, 12) and set c[0, :3] = 99. Then print(b) to observe effects.\n",
    "\n",
    "Get r = b.ravel() and set the last 4 elements of r to -1. print(b) again.\n",
    "\n",
    "Make d = b.flatten() and set d[:5] = 777. Print both b and d.\n",
    "\n",
    "Create:\n",
    "\n",
    "col = np.arange(1,4).reshape(3,1)\n",
    "\n",
    "row = np.arange(10,13)\n",
    "Build and print:\n",
    "\n",
    "M_h = np.hstack([col, row.reshape(3,1)]) # shape (3,2)\n",
    "\n",
    "M_v = np.vstack([row, row+100]) # shape (2,3)\n",
    "\n",
    "M_s = np.stack([row, row+100], axis=1) # shape (3,2)\n",
    "\n",
    "Use np.concatenate to append two rows of zeros to b (so final shape is (6, 6)). Print the result."
   ]
  },
  {
   "cell_type": "code",
   "execution_count": 80,
   "id": "1216e5fb",
   "metadata": {},
   "outputs": [
    {
     "name": "stdout",
     "output_type": "stream",
     "text": [
      "[[99 99 99  3  4  5]\n",
      " [ 6  7  8  9 10 11]\n",
      " [12 13 14 15 16 17]\n",
      " [18 19 20 21 22 23]]\n",
      "[99 99 99  3  4  5  6  7  8  9 10 11 12 13 14 15 16 17 18 19 20 21 22 23]\n",
      "[99 99 99  3  4  5  6  7  8  9 10 11 12 13 14 15 16 17 18 19 -1 -1 -1 -1]\n",
      "[[99 99 99  3  4  5]\n",
      " [ 6  7  8  9 10 11]\n",
      " [12 13 14 15 16 17]\n",
      " [18 19 -1 -1 -1 -1]]\n",
      "[[99 99 99  3  4  5]\n",
      " [ 6  7  8  9 10 11]\n",
      " [12 13 14 15 16 17]\n",
      " [18 19 -1 -1 -1 -1]]\n",
      "[777 777 777 777 777   5   6   7   8   9  10  11  12  13  14  15  16  17\n",
      "  18  19  -1  -1  -1  -1]\n",
      "[[1]\n",
      " [2]\n",
      " [3]]\n",
      "[10 11 12]\n",
      "[[ 10  11  12]\n",
      " [110 111 112]]\n",
      "[[99. 99. 99.  3.  4.  5.]\n",
      " [ 6.  7.  8.  9. 10. 11.]\n",
      " [12. 13. 14. 15. 16. 17.]\n",
      " [18. 19. -1. -1. -1. -1.]\n",
      " [ 0.  0.  0.  0.  0.  0.]\n",
      " [ 0.  0.  0.  0.  0.  0.]]\n"
     ]
    }
   ],
   "source": [
    "b = np.arange(24).reshape(4,6)\n",
    "c = b.reshape(2,12)\n",
    "c[0, :3] =99\n",
    "print(b)\n",
    "r = b.ravel()\n",
    "print(r)\n",
    "r[-4:] = -1\n",
    "print(r)\n",
    "print(b)\n",
    "d = b.flatten()\n",
    "d[:5] = 777\n",
    "print(b)\n",
    "print(d)\n",
    "\n",
    "col = np.arange(1,4).reshape(3,1)\n",
    "row = np.arange(10,13)\n",
    "\n",
    "print(col)\n",
    "print(row)\n",
    "\n",
    "M_h = np.hstack([col, row.reshape(3,1)])\n",
    "M_v = np.vstack([row, row+100])\n",
    "print(M_v)\n",
    "\n",
    "M_s = np.stack([row, row+100], axis =1 )\n",
    "\n",
    "b = np.concatenate([b, np.zeros(12).reshape(2,6)])\n",
    "print(b)"
   ]
  },
  {
   "cell_type": "markdown",
   "id": "838bd208",
   "metadata": {},
   "source": [
    "Create:\n",
    "\n",
    "A = np.array([[3, 1, 9],\n",
    "              [2, 8, 5],\n",
    "              [0, 4, 7]])\n",
    "\n",
    "\n",
    "Compute col_sums = A.sum(axis=0) and row_means = A.mean(axis=1). Print both.\n",
    "\n",
    "Find the index of the max in each row: idx = A.argmax(axis=1).\n",
    "\n",
    "Use np.take_along_axis to get the max values per row. Print the indices and values.\n",
    "\n",
    "Make a 3D array: X = np.arange(24).reshape(2, 3, 4).\n",
    "\n",
    "Compute X.argmax() (flat) and convert it to 3D indices with np.unravel_index.\n",
    "\n",
    "Print the 3D index tuple and the max value at that location.\n",
    "\n",
    "On the same X, compute last_axis_argmin = X.argmin(axis=2) (shape (2,3)).\n",
    "\n",
    "Use np.take_along_axis to fetch the corresponding min values along the last axis (shape (2,3)). Print them."
   ]
  },
  {
   "cell_type": "code",
   "execution_count": null,
   "id": "1d8a1b0f",
   "metadata": {},
   "outputs": [
    {
     "name": "stdout",
     "output_type": "stream",
     "text": [
      "[2 1 2]\n",
      "[2 1 2]\n",
      "[9 8 7]\n",
      "23\n"
     ]
    }
   ],
   "source": [
    "A = np.array([[3, 1, 9],\n",
    "              [2, 8, 5],\n",
    "              [0, 4, 7]])\n",
    "\n",
    "ind = np.argmax(A, axis=1)\n",
    "print(ind)\n",
    "print(A.argmax(axis = 1))\n",
    "print(np.take_along_axis(A, ind[:, None], axis = 1).ravel())"
   ]
  },
  {
   "cell_type": "markdown",
   "id": "43d55545",
   "metadata": {},
   "source": [
    "Broadcasting"
   ]
  },
  {
   "cell_type": "code",
   "execution_count": null,
   "id": "f081f4b9",
   "metadata": {},
   "outputs": [
    {
     "name": "stdout",
     "output_type": "stream",
     "text": [
      "[[10 21 32 43]\n",
      " [14 25 36 47]\n",
      " [18 29 40 51]]\n",
      "[[  0   1   2   3]\n",
      " [104 105 106 107]\n",
      " [208 209 210 211]]\n"
     ]
    }
   ],
   "source": [
    "A = np.arange(12).reshape(3,4)\n",
    "\n",
    "col_bias = np.array([10,20,30,40])\n",
    "A_plus = A + col_bias\n",
    "print(A_plus)\n",
    "\n",
    "row_bias = np.array([0,100,200])\n",
    "A_Plus2 = A + row_bias[:, None]\n",
    "print(A_Plus2)\n",
    "\n",
    "# Column-centering\n",
    "A_centered = A - A.mean(axis=0, keepdims=True)\n",
    "print(A_centered)"
   ]
  }
 ],
 "metadata": {
  "kernelspec": {
   "display_name": "Python 3",
   "language": "python",
   "name": "python3"
  },
  "language_info": {
   "codemirror_mode": {
    "name": "ipython",
    "version": 3
   },
   "file_extension": ".py",
   "mimetype": "text/x-python",
   "name": "python",
   "nbconvert_exporter": "python",
   "pygments_lexer": "ipython3",
   "version": "3.12.10"
  }
 },
 "nbformat": 4,
 "nbformat_minor": 5
}
