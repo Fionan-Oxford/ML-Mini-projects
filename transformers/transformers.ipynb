{
 "cells": [
  {
   "cell_type": "code",
   "execution_count": 1,
   "id": "7c7ac7d9",
   "metadata": {},
   "outputs": [
    {
     "name": "stdout",
     "output_type": "stream",
     "text": [
      "Python: 3.11.9\n",
      "PyTorch: 2.7.0.dev20250309+cu128\n",
      "CUDA available: True\n",
      "GPU: NVIDIA GeForce RTX 3050 6GB Laptop GPU\n"
     ]
    }
   ],
   "source": [
    "import torch, platform\n",
    "print(\"Python:\", platform.python_version())\n",
    "print(\"PyTorch:\", torch.__version__)\n",
    "print(\"CUDA available:\", torch.cuda.is_available())\n",
    "if torch.cuda.is_available():\n",
    "    print(\"GPU:\", torch.cuda.get_device_name(0))\n",
    "# macOS Metal (MPS) fallback\n",
    "if hasattr(torch.backends, \"mps\") and torch.backends.mps.is_available():\n",
    "    print(\"MPS available: True\")\n"
   ]
  },
  {
   "cell_type": "code",
   "execution_count": 6,
   "id": "753e3b1d",
   "metadata": {},
   "outputs": [
    {
     "name": "stderr",
     "output_type": "stream",
     "text": [
      "Device set to use cuda:0\n",
      "The `xla_device` argument has been deprecated in v4.4.0 of Transformers. It is ignored and you can safely remove it from your `config.json` file.\n",
      "The `xla_device` argument has been deprecated in v4.4.0 of Transformers. It is ignored and you can safely remove it from your `config.json` file.\n",
      "The `xla_device` argument has been deprecated in v4.4.0 of Transformers. It is ignored and you can safely remove it from your `config.json` file.\n",
      "The `xla_device` argument has been deprecated in v4.4.0 of Transformers. It is ignored and you can safely remove it from your `config.json` file.\n",
      "The `xla_device` argument has been deprecated in v4.4.0 of Transformers. It is ignored and you can safely remove it from your `config.json` file.\n"
     ]
    },
    {
     "name": "stdout",
     "output_type": "stream",
     "text": [
      "[{'label': 'POSITIVE', 'score': 0.9987070560455322}]\n"
     ]
    },
    {
     "name": "stderr",
     "output_type": "stream",
     "text": [
      "Device set to use cuda:0\n"
     ]
    },
    {
     "name": "stdout",
     "output_type": "stream",
     "text": [
      "{'sequence': 'I loved the buttery croissant but the coffee was burnt.', 'labels': ['ambience', 'food quality', 'price', 'service'], 'scores': [0.9803847074508667, 0.008877531625330448, 0.005549285560846329, 0.00518846744671464]}\n"
     ]
    }
   ],
   "source": [
    "from transformers import pipeline\n",
    "\n",
    "sent = pipeline(\"text-classification\", model=\"distilbert-base-uncased-finetuned-sst-2-english\")\n",
    "print(sent(\"Hugging Face makes NLP easy!\"))\n",
    "\n",
    "zshot = pipeline(\n",
    "    \"zero-shot-classification\",\n",
    "    model=\"typeform/distilbert-base-uncased-mnli\"  # compact MNLI model\n",
    ")\n",
    "print(zshot(\n",
    "    \"I loved the buttery croissant but the coffee was burnt.\",\n",
    "    candidate_labels=[\"food quality\", \"service\", \"price\", \"ambience\"]\n",
    "))\n"
   ]
  },
  {
   "cell_type": "code",
   "execution_count": 4,
   "id": "e56760c6",
   "metadata": {},
   "outputs": [
    {
     "name": "stdout",
     "output_type": "stream",
     "text": [
      "Label probs: {'NEGATIVE': 0.00013041975034866482, 'POSITIVE': 0.9998695850372314}\n"
     ]
    }
   ],
   "source": [
    "from transformers import AutoTokenizer, AutoModelForSequenceClassification\n",
    "import torch\n",
    "\n",
    "ckpt = \"distilbert-base-uncased-finetuned-sst-2-english\"  # note: includes a trained classifier head\n",
    "tok = AutoTokenizer.from_pretrained(ckpt)\n",
    "model = AutoModelForSequenceClassification.from_pretrained(ckpt)\n",
    "\n",
    "inputs = tok(\"This course will be awesome.\", return_tensors=\"pt\")\n",
    "with torch.no_grad():\n",
    "    logits = model(**inputs).logits\n",
    "probs = logits.softmax(-1).squeeze()\n",
    "print(\"Label probs:\", {model.config.id2label[i]: float(probs[i]) for i in range(len(probs))})\n"
   ]
  },
  {
   "cell_type": "code",
   "execution_count": 7,
   "id": "58d45cda",
   "metadata": {},
   "outputs": [
    {
     "name": "stdout",
     "output_type": "stream",
     "text": [
      "HFCacheInfo(size_on_disk=2062822827, repos=frozenset({CachedRepoInfo(repo_id='glue', repo_type='dataset', repo_path=WindowsPath('C:/Users/fiona/.cache/huggingface/hub/datasets--glue'), size_on_disk=1068696, nb_files=4, revisions=frozenset({CachedRevisionInfo(commit_hash='bcdcba79d07bc864c1c254ccfcedcce55bcc9a8c', snapshot_path=WindowsPath('C:/Users/fiona/.cache/huggingface/hub/datasets--glue/snapshots/bcdcba79d07bc864c1c254ccfcedcce55bcc9a8c'), size_on_disk=1068696, files=frozenset({CachedFileInfo(file_name='README.md', file_path=WindowsPath('C:/Users/fiona/.cache/huggingface/hub/datasets--glue/snapshots/bcdcba79d07bc864c1c254ccfcedcce55bcc9a8c/README.md'), blob_path=WindowsPath('C:/Users/fiona/.cache/huggingface/hub/datasets--glue/snapshots/bcdcba79d07bc864c1c254ccfcedcce55bcc9a8c/README.md'), size_on_disk=35296, blob_last_accessed=1746450457.4062219, blob_last_modified=1746445224.71849), CachedFileInfo(file_name='test-00000-of-00001.parquet', file_path=WindowsPath('C:/Users/fiona/.cache/huggingface/hub/datasets--glue/snapshots/bcdcba79d07bc864c1c254ccfcedcce55bcc9a8c/mrpc/test-00000-of-00001.parquet'), blob_path=WindowsPath('C:/Users/fiona/.cache/huggingface/hub/datasets--glue/snapshots/bcdcba79d07bc864c1c254ccfcedcce55bcc9a8c/mrpc/test-00000-of-00001.parquet'), size_on_disk=308441, blob_last_accessed=1746445230.1352425, blob_last_modified=1746445230.0717196), CachedFileInfo(file_name='validation-00000-of-00001.parquet', file_path=WindowsPath('C:/Users/fiona/.cache/huggingface/hub/datasets--glue/snapshots/bcdcba79d07bc864c1c254ccfcedcce55bcc9a8c/mrpc/validation-00000-of-00001.parquet'), blob_path=WindowsPath('C:/Users/fiona/.cache/huggingface/hub/datasets--glue/snapshots/bcdcba79d07bc864c1c254ccfcedcce55bcc9a8c/mrpc/validation-00000-of-00001.parquet'), size_on_disk=75678, blob_last_accessed=1746445230.1317625, blob_last_modified=1746445229.7544038), CachedFileInfo(file_name='train-00000-of-00001.parquet', file_path=WindowsPath('C:/Users/fiona/.cache/huggingface/hub/datasets--glue/snapshots/bcdcba79d07bc864c1c254ccfcedcce55bcc9a8c/mrpc/train-00000-of-00001.parquet'), blob_path=WindowsPath('C:/Users/fiona/.cache/huggingface/hub/datasets--glue/snapshots/bcdcba79d07bc864c1c254ccfcedcce55bcc9a8c/mrpc/train-00000-of-00001.parquet'), size_on_disk=649281, blob_last_accessed=1746445230.1200247, blob_last_modified=1746445229.5440722)}), refs=frozenset({'main'}), last_modified=1746445230.0717196)}), last_accessed=1746450457.4062219, last_modified=1746445230.0717196), CachedRepoInfo(repo_id='bert-base-uncased', repo_type='model', repo_path=WindowsPath('C:/Users/fiona/.cache/huggingface/hub/models--bert-base-uncased'), size_on_disk=441147956, nb_files=5, revisions=frozenset({CachedRevisionInfo(commit_hash='86b5e0934494bd15c9632b12f734a8a67f723594', snapshot_path=WindowsPath('C:/Users/fiona/.cache/huggingface/hub/models--bert-base-uncased/snapshots/86b5e0934494bd15c9632b12f734a8a67f723594'), size_on_disk=441147956, files=frozenset({CachedFileInfo(file_name='model.safetensors', file_path=WindowsPath('C:/Users/fiona/.cache/huggingface/hub/models--bert-base-uncased/snapshots/86b5e0934494bd15c9632b12f734a8a67f723594/model.safetensors'), blob_path=WindowsPath('C:/Users/fiona/.cache/huggingface/hub/models--bert-base-uncased/snapshots/86b5e0934494bd15c9632b12f734a8a67f723594/model.safetensors'), size_on_disk=440449768, blob_last_accessed=1746447324.0320296, blob_last_modified=1746447324.001575), CachedFileInfo(file_name='config.json', file_path=WindowsPath('C:/Users/fiona/.cache/huggingface/hub/models--bert-base-uncased/snapshots/86b5e0934494bd15c9632b12f734a8a67f723594/config.json'), blob_path=WindowsPath('C:/Users/fiona/.cache/huggingface/hub/models--bert-base-uncased/snapshots/86b5e0934494bd15c9632b12f734a8a67f723594/config.json'), size_on_disk=570, blob_last_accessed=1746447308.1712122, blob_last_modified=1746446137.3106127), CachedFileInfo(file_name='vocab.txt', file_path=WindowsPath('C:/Users/fiona/.cache/huggingface/hub/models--bert-base-uncased/snapshots/86b5e0934494bd15c9632b12f734a8a67f723594/vocab.txt'), blob_path=WindowsPath('C:/Users/fiona/.cache/huggingface/hub/models--bert-base-uncased/snapshots/86b5e0934494bd15c9632b12f734a8a67f723594/vocab.txt'), size_on_disk=231508, blob_last_accessed=1746446137.627726, blob_last_modified=1746446137.627726), CachedFileInfo(file_name='tokenizer.json', file_path=WindowsPath('C:/Users/fiona/.cache/huggingface/hub/models--bert-base-uncased/snapshots/86b5e0934494bd15c9632b12f734a8a67f723594/tokenizer.json'), blob_path=WindowsPath('C:/Users/fiona/.cache/huggingface/hub/models--bert-base-uncased/snapshots/86b5e0934494bd15c9632b12f734a8a67f723594/tokenizer.json'), size_on_disk=466062, blob_last_accessed=1746447307.464456, blob_last_modified=1746446138.0386326), CachedFileInfo(file_name='tokenizer_config.json', file_path=WindowsPath('C:/Users/fiona/.cache/huggingface/hub/models--bert-base-uncased/snapshots/86b5e0934494bd15c9632b12f734a8a67f723594/tokenizer_config.json'), blob_path=WindowsPath('C:/Users/fiona/.cache/huggingface/hub/models--bert-base-uncased/snapshots/86b5e0934494bd15c9632b12f734a8a67f723594/tokenizer_config.json'), size_on_disk=48, blob_last_accessed=1746447307.453382, blob_last_modified=1746446137.0897875)}), refs=frozenset({'main'}), last_modified=1746447324.001575)}), last_accessed=1746447324.0320296, last_modified=1746447324.001575), CachedRepoInfo(repo_id='MoritzLaurer/DeBERTa-v3-base-mnli-fever-anli', repo_type='model', repo_path=WindowsPath('C:/Users/fiona/.cache/huggingface/hub/models--MoritzLaurer--DeBERTa-v3-base-mnli-fever-anli'), size_on_disk=380001591, nb_files=7, revisions=frozenset({CachedRevisionInfo(commit_hash='6f5cf0a2b59cabb106aca4c287eed12e357e90eb', snapshot_path=WindowsPath('C:/Users/fiona/.cache/huggingface/hub/models--MoritzLaurer--DeBERTa-v3-base-mnli-fever-anli/snapshots/6f5cf0a2b59cabb106aca4c287eed12e357e90eb'), size_on_disk=380001591, files=frozenset({CachedFileInfo(file_name='tokenizer_config.json', file_path=WindowsPath('C:/Users/fiona/.cache/huggingface/hub/models--MoritzLaurer--DeBERTa-v3-base-mnli-fever-anli/snapshots/6f5cf0a2b59cabb106aca4c287eed12e357e90eb/tokenizer_config.json'), blob_path=WindowsPath('C:/Users/fiona/.cache/huggingface/hub/models--MoritzLaurer--DeBERTa-v3-base-mnli-fever-anli/snapshots/6f5cf0a2b59cabb106aca4c287eed12e357e90eb/tokenizer_config.json'), size_on_disk=1284, blob_last_accessed=1746134132.2608654, blob_last_modified=1746134126.269557), CachedFileInfo(file_name='config.json', file_path=WindowsPath('C:/Users/fiona/.cache/huggingface/hub/models--MoritzLaurer--DeBERTa-v3-base-mnli-fever-anli/snapshots/6f5cf0a2b59cabb106aca4c287eed12e357e90eb/config.json'), blob_path=WindowsPath('C:/Users/fiona/.cache/huggingface/hub/models--MoritzLaurer--DeBERTa-v3-base-mnli-fever-anli/snapshots/6f5cf0a2b59cabb106aca4c287eed12e357e90eb/config.json'), size_on_disk=1090, blob_last_accessed=1746133953.3512294, blob_last_modified=1746133953.2823913), CachedFileInfo(file_name='added_tokens.json', file_path=WindowsPath('C:/Users/fiona/.cache/huggingface/hub/models--MoritzLaurer--DeBERTa-v3-base-mnli-fever-anli/snapshots/6f5cf0a2b59cabb106aca4c287eed12e357e90eb/added_tokens.json'), blob_path=WindowsPath('C:/Users/fiona/.cache/huggingface/hub/models--MoritzLaurer--DeBERTa-v3-base-mnli-fever-anli/snapshots/6f5cf0a2b59cabb106aca4c287eed12e357e90eb/added_tokens.json'), size_on_disk=23, blob_last_accessed=1746134131.8051605, blob_last_modified=1746134131.8051605), CachedFileInfo(file_name='spm.model', file_path=WindowsPath('C:/Users/fiona/.cache/huggingface/hub/models--MoritzLaurer--DeBERTa-v3-base-mnli-fever-anli/snapshots/6f5cf0a2b59cabb106aca4c287eed12e357e90eb/spm.model'), blob_path=WindowsPath('C:/Users/fiona/.cache/huggingface/hub/models--MoritzLaurer--DeBERTa-v3-base-mnli-fever-anli/snapshots/6f5cf0a2b59cabb106aca4c287eed12e357e90eb/spm.model'), size_on_disk=2464616, blob_last_accessed=1746134127.4800105, blob_last_modified=1746134127.4800105), CachedFileInfo(file_name='special_tokens_map.json', file_path=WindowsPath('C:/Users/fiona/.cache/huggingface/hub/models--MoritzLaurer--DeBERTa-v3-base-mnli-fever-anli/snapshots/6f5cf0a2b59cabb106aca4c287eed12e357e90eb/special_tokens_map.json'), blob_path=WindowsPath('C:/Users/fiona/.cache/huggingface/hub/models--MoritzLaurer--DeBERTa-v3-base-mnli-fever-anli/snapshots/6f5cf0a2b59cabb106aca4c287eed12e357e90eb/special_tokens_map.json'), size_on_disk=286, blob_last_accessed=1746134132.1445289, blob_last_modified=1746134132.1445289), CachedFileInfo(file_name='model.safetensors', file_path=WindowsPath('C:/Users/fiona/.cache/huggingface/hub/models--MoritzLaurer--DeBERTa-v3-base-mnli-fever-anli/snapshots/6f5cf0a2b59cabb106aca4c287eed12e357e90eb/model.safetensors'), blob_path=WindowsPath('C:/Users/fiona/.cache/huggingface/hub/models--MoritzLaurer--DeBERTa-v3-base-mnli-fever-anli/snapshots/6f5cf0a2b59cabb106aca4c287eed12e357e90eb/model.safetensors'), size_on_disk=368877646, blob_last_accessed=1746134125.866813, blob_last_modified=1746134125.8155773), CachedFileInfo(file_name='tokenizer.json', file_path=WindowsPath('C:/Users/fiona/.cache/huggingface/hub/models--MoritzLaurer--DeBERTa-v3-base-mnli-fever-anli/snapshots/6f5cf0a2b59cabb106aca4c287eed12e357e90eb/tokenizer.json'), blob_path=WindowsPath('C:/Users/fiona/.cache/huggingface/hub/models--MoritzLaurer--DeBERTa-v3-base-mnli-fever-anli/snapshots/6f5cf0a2b59cabb106aca4c287eed12e357e90eb/tokenizer.json'), size_on_disk=8656646, blob_last_accessed=1746134132.2934752, blob_last_modified=1746134131.4188006)}), refs=frozenset({'main'}), last_modified=1746134132.1445289)}), last_accessed=1746134132.2934752, last_modified=1746134132.1445289), CachedRepoInfo(repo_id='distilbert/distilbert-base-uncased-finetuned-sst-2-english', repo_type='model', repo_path=WindowsPath('C:/Users/fiona/.cache/huggingface/hub/models--distilbert--distilbert-base-uncased-finetuned-sst-2-english'), size_on_disk=268064743, nb_files=4, revisions=frozenset({CachedRevisionInfo(commit_hash='714eb0fa89d2f80546fda750413ed43d93601a13', snapshot_path=WindowsPath('C:/Users/fiona/.cache/huggingface/hub/models--distilbert--distilbert-base-uncased-finetuned-sst-2-english/snapshots/714eb0fa89d2f80546fda750413ed43d93601a13'), size_on_disk=268064743, files=frozenset({CachedFileInfo(file_name='model.safetensors', file_path=WindowsPath('C:/Users/fiona/.cache/huggingface/hub/models--distilbert--distilbert-base-uncased-finetuned-sst-2-english/snapshots/714eb0fa89d2f80546fda750413ed43d93601a13/model.safetensors'), blob_path=WindowsPath('C:/Users/fiona/.cache/huggingface/hub/models--distilbert--distilbert-base-uncased-finetuned-sst-2-english/snapshots/714eb0fa89d2f80546fda750413ed43d93601a13/model.safetensors'), size_on_disk=267832558, blob_last_accessed=1756808582.999482, blob_last_modified=1739874519.6737611), CachedFileInfo(file_name='vocab.txt', file_path=WindowsPath('C:/Users/fiona/.cache/huggingface/hub/models--distilbert--distilbert-base-uncased-finetuned-sst-2-english/snapshots/714eb0fa89d2f80546fda750413ed43d93601a13/vocab.txt'), blob_path=WindowsPath('C:/Users/fiona/.cache/huggingface/hub/models--distilbert--distilbert-base-uncased-finetuned-sst-2-english/snapshots/714eb0fa89d2f80546fda750413ed43d93601a13/vocab.txt'), size_on_disk=231508, blob_last_accessed=1756808583.0554311, blob_last_modified=1739874520.3358197), CachedFileInfo(file_name='tokenizer_config.json', file_path=WindowsPath('C:/Users/fiona/.cache/huggingface/hub/models--distilbert--distilbert-base-uncased-finetuned-sst-2-english/snapshots/714eb0fa89d2f80546fda750413ed43d93601a13/tokenizer_config.json'), blob_path=WindowsPath('C:/Users/fiona/.cache/huggingface/hub/models--distilbert--distilbert-base-uncased-finetuned-sst-2-english/snapshots/714eb0fa89d2f80546fda750413ed43d93601a13/tokenizer_config.json'), size_on_disk=48, blob_last_accessed=1756808583.1656005, blob_last_modified=1739874519.9341366), CachedFileInfo(file_name='config.json', file_path=WindowsPath('C:/Users/fiona/.cache/huggingface/hub/models--distilbert--distilbert-base-uncased-finetuned-sst-2-english/snapshots/714eb0fa89d2f80546fda750413ed43d93601a13/config.json'), blob_path=WindowsPath('C:/Users/fiona/.cache/huggingface/hub/models--distilbert--distilbert-base-uncased-finetuned-sst-2-english/snapshots/714eb0fa89d2f80546fda750413ed43d93601a13/config.json'), size_on_disk=629, blob_last_accessed=1756808583.1666038, blob_last_modified=1739874505.8739214)}), refs=frozenset({'714eb0f'}), last_modified=1739874520.3358197)}), last_accessed=1756808583.1666038, last_modified=1739874520.3358197), CachedRepoInfo(repo_id='bert-base-cased', repo_type='model', repo_path=WindowsPath('C:/Users/fiona/.cache/huggingface/hub/models--bert-base-cased'), size_on_disk=436405650, nb_files=5, revisions=frozenset({CachedRevisionInfo(commit_hash='cd5ef92a9fb2f889e972770a36d4ed042daf221e', snapshot_path=WindowsPath('C:/Users/fiona/.cache/huggingface/hub/models--bert-base-cased/snapshots/cd5ef92a9fb2f889e972770a36d4ed042daf221e'), size_on_disk=436405650, files=frozenset({CachedFileInfo(file_name='config.json', file_path=WindowsPath('C:/Users/fiona/.cache/huggingface/hub/models--bert-base-cased/snapshots/cd5ef92a9fb2f889e972770a36d4ed042daf221e/config.json'), blob_path=WindowsPath('C:/Users/fiona/.cache/huggingface/hub/models--bert-base-cased/snapshots/cd5ef92a9fb2f889e972770a36d4ed042daf221e/config.json'), size_on_disk=570, blob_last_accessed=1746450461.105765, blob_last_modified=1746449890.1749718), CachedFileInfo(file_name='vocab.txt', file_path=WindowsPath('C:/Users/fiona/.cache/huggingface/hub/models--bert-base-cased/snapshots/cd5ef92a9fb2f889e972770a36d4ed042daf221e/vocab.txt'), blob_path=WindowsPath('C:/Users/fiona/.cache/huggingface/hub/models--bert-base-cased/snapshots/cd5ef92a9fb2f889e972770a36d4ed042daf221e/vocab.txt'), size_on_disk=213450, blob_last_accessed=1746449890.5526361, blob_last_modified=1746449890.5526361), CachedFileInfo(file_name='tokenizer.json', file_path=WindowsPath('C:/Users/fiona/.cache/huggingface/hub/models--bert-base-cased/snapshots/cd5ef92a9fb2f889e972770a36d4ed042daf221e/tokenizer.json'), blob_path=WindowsPath('C:/Users/fiona/.cache/huggingface/hub/models--bert-base-cased/snapshots/cd5ef92a9fb2f889e972770a36d4ed042daf221e/tokenizer.json'), size_on_disk=435797, blob_last_accessed=1746450460.9783325, blob_last_modified=1746449890.7815337), CachedFileInfo(file_name='model.safetensors', file_path=WindowsPath('C:/Users/fiona/.cache/huggingface/hub/models--bert-base-cased/snapshots/cd5ef92a9fb2f889e972770a36d4ed042daf221e/model.safetensors'), blob_path=WindowsPath('C:/Users/fiona/.cache/huggingface/hub/models--bert-base-cased/snapshots/cd5ef92a9fb2f889e972770a36d4ed042daf221e/model.safetensors'), size_on_disk=435755784, blob_last_accessed=1746450461.3844552, blob_last_modified=1746449902.747845), CachedFileInfo(file_name='tokenizer_config.json', file_path=WindowsPath('C:/Users/fiona/.cache/huggingface/hub/models--bert-base-cased/snapshots/cd5ef92a9fb2f889e972770a36d4ed042daf221e/tokenizer_config.json'), blob_path=WindowsPath('C:/Users/fiona/.cache/huggingface/hub/models--bert-base-cased/snapshots/cd5ef92a9fb2f889e972770a36d4ed042daf221e/tokenizer_config.json'), size_on_disk=49, blob_last_accessed=1746450460.969808, blob_last_modified=1746449889.9345853)}), refs=frozenset({'main'}), last_modified=1746449902.747845)}), last_accessed=1746450461.3844552, last_modified=1746449902.747845), CachedRepoInfo(repo_id='facebook/bart-large-mnli', repo_type='model', repo_path=WindowsPath('C:/Users/fiona/.cache/huggingface/hub/models--facebook--bart-large-mnli'), size_on_disk=1154, nb_files=1, revisions=frozenset({CachedRevisionInfo(commit_hash='d7645e127eaf1aefc7862fd59a17a5aa8558b8ce', snapshot_path=WindowsPath('C:/Users/fiona/.cache/huggingface/hub/models--facebook--bart-large-mnli/snapshots/d7645e127eaf1aefc7862fd59a17a5aa8558b8ce'), size_on_disk=1154, files=frozenset({CachedFileInfo(file_name='config.json', file_path=WindowsPath('C:/Users/fiona/.cache/huggingface/hub/models--facebook--bart-large-mnli/snapshots/d7645e127eaf1aefc7862fd59a17a5aa8558b8ce/config.json'), blob_path=WindowsPath('C:/Users/fiona/.cache/huggingface/hub/models--facebook--bart-large-mnli/snapshots/d7645e127eaf1aefc7862fd59a17a5aa8558b8ce/config.json'), size_on_disk=1154, blob_last_accessed=1746133511.0107908, blob_last_modified=1746132901.1367285)}), refs=frozenset({'d7645e1'}), last_modified=1746132901.1367285)}), last_accessed=1746133511.0107908, last_modified=1746132901.1367285), CachedRepoInfo(repo_id='typeform/distilbert-base-uncased-mnli', repo_type='model', repo_path=WindowsPath('C:/Users/fiona/.cache/huggingface/hub/models--typeform--distilbert-base-uncased-mnli'), size_on_disk=268068294, nb_files=5, revisions=frozenset({CachedRevisionInfo(commit_hash='cfa538a0fddbbd978fefe8966c1aeff7ad409c90', snapshot_path=WindowsPath('C:/Users/fiona/.cache/huggingface/hub/models--typeform--distilbert-base-uncased-mnli/snapshots/cfa538a0fddbbd978fefe8966c1aeff7ad409c90'), size_on_disk=268068294, files=frozenset({CachedFileInfo(file_name='special_tokens_map.json', file_path=WindowsPath('C:/Users/fiona/.cache/huggingface/hub/models--typeform--distilbert-base-uncased-mnli/snapshots/cfa538a0fddbbd978fefe8966c1aeff7ad409c90/special_tokens_map.json'), blob_path=WindowsPath('C:/Users/fiona/.cache/huggingface/hub/models--typeform--distilbert-base-uncased-mnli/blobs/e7b0375001f109a6b8873d756ad4f7bbb15fbaa5'), size_on_disk=112, blob_last_accessed=1756911830.972321, blob_last_modified=1756910087.3976605), CachedFileInfo(file_name='config.json', file_path=WindowsPath('C:/Users/fiona/.cache/huggingface/hub/models--typeform--distilbert-base-uncased-mnli/snapshots/cfa538a0fddbbd978fefe8966c1aeff7ad409c90/config.json'), blob_path=WindowsPath('C:/Users/fiona/.cache/huggingface/hub/models--typeform--distilbert-base-uncased-mnli/blobs/659271c03755b53fea13e06fb75aa32fb175b418'), size_on_disk=776, blob_last_accessed=1756911830.97148, blob_last_modified=1756909978.6089437), CachedFileInfo(file_name='model.safetensors', file_path=WindowsPath('C:/Users/fiona/.cache/huggingface/hub/models--typeform--distilbert-base-uncased-mnli/snapshots/cfa538a0fddbbd978fefe8966c1aeff7ad409c90/model.safetensors'), blob_path=WindowsPath('C:/Users/fiona/.cache/huggingface/hub/models--typeform--distilbert-base-uncased-mnli/blobs/16d47e5948c7076ecfe8b9d343c0d1474cd600f18405c40cfcf183605787af41'), size_on_disk=267835640, blob_last_accessed=1756911830.9394803, blob_last_modified=1756910086.5986743), CachedFileInfo(file_name='vocab.txt', file_path=WindowsPath('C:/Users/fiona/.cache/huggingface/hub/models--typeform--distilbert-base-uncased-mnli/snapshots/cfa538a0fddbbd978fefe8966c1aeff7ad409c90/vocab.txt'), blob_path=WindowsPath('C:/Users/fiona/.cache/huggingface/hub/models--typeform--distilbert-base-uncased-mnli/blobs/fb140275c155a9c7c5a3b3e0e77a9e839594a938'), size_on_disk=231508, blob_last_accessed=1756911830.9564898, blob_last_modified=1756910087.0231724), CachedFileInfo(file_name='tokenizer_config.json', file_path=WindowsPath('C:/Users/fiona/.cache/huggingface/hub/models--typeform--distilbert-base-uncased-mnli/snapshots/cfa538a0fddbbd978fefe8966c1aeff7ad409c90/tokenizer_config.json'), blob_path=WindowsPath('C:/Users/fiona/.cache/huggingface/hub/models--typeform--distilbert-base-uncased-mnli/blobs/46e71b82b5c5e8a0f6630fdf04cf6ee74bc9dfec'), size_on_disk=258, blob_last_accessed=1756911830.9704795, blob_last_modified=1756910086.8051782)}), refs=frozenset({'main'}), last_modified=1756910087.3976605)}), last_accessed=1756911830.972321, last_modified=1756910087.3976605), CachedRepoInfo(repo_id='distilbert-base-uncased-finetuned-sst-2-english', repo_type='model', repo_path=WindowsPath('C:/Users/fiona/.cache/huggingface/hub/models--distilbert-base-uncased-finetuned-sst-2-english'), size_on_disk=268064743, nb_files=4, revisions=frozenset({CachedRevisionInfo(commit_hash='714eb0fa89d2f80546fda750413ed43d93601a13', snapshot_path=WindowsPath('C:/Users/fiona/.cache/huggingface/hub/models--distilbert-base-uncased-finetuned-sst-2-english/snapshots/714eb0fa89d2f80546fda750413ed43d93601a13'), size_on_disk=268064743, files=frozenset({CachedFileInfo(file_name='tokenizer_config.json', file_path=WindowsPath('C:/Users/fiona/.cache/huggingface/hub/models--distilbert-base-uncased-finetuned-sst-2-english/snapshots/714eb0fa89d2f80546fda750413ed43d93601a13/tokenizer_config.json'), blob_path=WindowsPath('C:/Users/fiona/.cache/huggingface/hub/models--distilbert-base-uncased-finetuned-sst-2-english/snapshots/714eb0fa89d2f80546fda750413ed43d93601a13/tokenizer_config.json'), size_on_disk=48, blob_last_accessed=1756911830.4976232, blob_last_modified=1746386112.5256543), CachedFileInfo(file_name='model.safetensors', file_path=WindowsPath('C:/Users/fiona/.cache/huggingface/hub/models--distilbert-base-uncased-finetuned-sst-2-english/snapshots/714eb0fa89d2f80546fda750413ed43d93601a13/model.safetensors'), blob_path=WindowsPath('C:/Users/fiona/.cache/huggingface/hub/models--distilbert-base-uncased-finetuned-sst-2-english/snapshots/714eb0fa89d2f80546fda750413ed43d93601a13/model.safetensors'), size_on_disk=267832558, blob_last_accessed=1756911830.4651947, blob_last_modified=1746386355.1224296), CachedFileInfo(file_name='config.json', file_path=WindowsPath('C:/Users/fiona/.cache/huggingface/hub/models--distilbert-base-uncased-finetuned-sst-2-english/snapshots/714eb0fa89d2f80546fda750413ed43d93601a13/config.json'), blob_path=WindowsPath('C:/Users/fiona/.cache/huggingface/hub/models--distilbert-base-uncased-finetuned-sst-2-english/snapshots/714eb0fa89d2f80546fda750413ed43d93601a13/config.json'), size_on_disk=629, blob_last_accessed=1756911830.4986255, blob_last_modified=1746386112.8453717), CachedFileInfo(file_name='vocab.txt', file_path=WindowsPath('C:/Users/fiona/.cache/huggingface/hub/models--distilbert-base-uncased-finetuned-sst-2-english/snapshots/714eb0fa89d2f80546fda750413ed43d93601a13/vocab.txt'), blob_path=WindowsPath('C:/Users/fiona/.cache/huggingface/hub/models--distilbert-base-uncased-finetuned-sst-2-english/snapshots/714eb0fa89d2f80546fda750413ed43d93601a13/vocab.txt'), size_on_disk=231508, blob_last_accessed=1756911830.4794474, blob_last_modified=1746386113.2815437)}), refs=frozenset({'main'}), last_modified=1746386355.1224296)}), last_accessed=1756911830.4986255, last_modified=1746386355.1224296)}), warnings=[])\n",
      "Repos cached: 8\n"
     ]
    }
   ],
   "source": [
    "# Works on recent huggingface_hub versions\n",
    "from huggingface_hub import scan_cache_dir\n",
    "info = scan_cache_dir()\n",
    "print(info)                      # human-readable summary (includes cache path)\n",
    "print(\"Repos cached:\", len(info.repos))\n",
    "\n"
   ]
  }
 ],
 "metadata": {
  "kernelspec": {
   "display_name": "Python 3",
   "language": "python",
   "name": "python3"
  },
  "language_info": {
   "codemirror_mode": {
    "name": "ipython",
    "version": 3
   },
   "file_extension": ".py",
   "mimetype": "text/x-python",
   "name": "python",
   "nbconvert_exporter": "python",
   "pygments_lexer": "ipython3",
   "version": "3.11.9"
  }
 },
 "nbformat": 4,
 "nbformat_minor": 5
}
